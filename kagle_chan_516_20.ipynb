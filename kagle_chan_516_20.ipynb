{
 "cells": [
  {
   "cell_type": "code",
   "execution_count": 143,
   "metadata": {},
   "outputs": [],
   "source": [
    "from sklearn.model_selection import train_test_split\n",
    "import numpy as np\n",
    "import pandas as pd\n",
    "import matplotlib.pyplot as plt \n",
    "import os\n",
    "import glob\n",
    "from tqdm import tqdm\n",
    "import pickle\n",
    "from tensorflow.keras.callbacks import ModelCheckpoint, EarlyStopping\n",
    "from tensorflow.keras.layers import Dense, Activation, Dropout, Flatten, Conv2D, MaxPooling2D,BatchNormalization\n",
    "from tensorflow.keras.preprocessing.image import ImageDataGenerator\n",
    "from tensorflow.keras.callbacks import EarlyStopping\n",
    "from tensorflow.keras import optimizers, Input, models, layers, metrics\n",
    "import shutil\n",
    "import cv2\n",
    "from tensorflow.keras.models import Sequential\n",
    "import tensorflow as tf\n",
    "from sklearn.metrics import confusion_matrix\n",
    "from sklearn.metrics import classification_report\n",
    "import matplotlib.image as mping"
   ]
  },
  {
   "cell_type": "code",
   "execution_count": 144,
   "metadata": {},
   "outputs": [],
   "source": [
    "# !pip install tqdm"
   ]
  },
  {
   "cell_type": "code",
   "execution_count": 145,
   "metadata": {},
   "outputs": [],
   "source": [
    "class CFG:\n",
    "    img_size = 516\n",
    "    channels = 3\n",
    "    batch_size = 5\n",
    "\n",
    "def seed_everything(seed=42):\n",
    "    os.environ['PYTHONHASHSEED'] = str(seed)\n",
    "    # python random\n",
    "    rnd.seed(seed)\n",
    "    # numpy random\n",
    "    np_rnd.seed(seed)\n",
    "    # RAPIDS random\n",
    "    try:\n",
    "        cupy.random.seed(seed)\n",
    "    except:\n",
    "        pass\n",
    "    # tf random\n",
    "    try:\n",
    "        tf_rnd.set_seed(seed)\n",
    "    except:\n",
    "        pass\n",
    "    # pytorch random\n",
    "    try:\n",
    "        torch.manual_seed(seed)\n",
    "        torch.cuda.manual_seed(seed)\n",
    "        torch.backends.cudnn.deterministic = True\n",
    "    except:\n",
    "        pass\n",
    "\n",
    "def pickleIO(obj, src, op=\"r\"):\n",
    "    if op==\"w\":\n",
    "        with open(src, op + \"b\") as f:\n",
    "            pickle.dump(obj, f)\n",
    "    elif op==\"r\":\n",
    "        with open(src, op + \"b\") as f:\n",
    "            tmp = pickle.load(f)\n",
    "        return tmp\n",
    "    else:\n",
    "        print(\"unknown operation\")\n",
    "        return obj\n",
    "    \n",
    "def createFolder(directory):\n",
    "    try:\n",
    "        if not os.path.exists(directory):\n",
    "            os.makedirs(directory)\n",
    "    except OSError:\n",
    "        print('Error: Creating directory. ' + directory)\n",
    "\n",
    "def findIdx(data_x, col_names):\n",
    "    return [int(i) for i, j in enumerate(data_x) if j in col_names]\n",
    "\n",
    "def diff(first, second):\n",
    "    second = set(second)\n",
    "    return [item for item in first if item not in second]"
   ]
  },
  {
   "attachments": {},
   "cell_type": "markdown",
   "metadata": {},
   "source": [
    "## 데이터 프레임 만들어 놓기"
   ]
  },
  {
   "cell_type": "code",
   "execution_count": 146,
   "metadata": {},
   "outputs": [],
   "source": [
    "df = pd.DataFrame()\n",
    "df[\"file_path\"] = glob.glob(\"./images/*\")\n",
    "df[\"file_name\"] = df[\"file_path\"].apply(lambda x: x.split(\"\\\\\")[-1])\n",
    "df[\"img_idx\"] = df[\"file_name\"].apply(lambda x: x.split(\"_\")[-1].split(\".\")[0]).astype(\"int64\")\n",
    "df[\"type\"] = df[\"file_name\"].apply(lambda x: x.split(\"_\")[0])\n",
    "df[\"ext\"] = df[\"file_name\"].apply(lambda x: x.split(\".\")[-1])"
   ]
  },
  {
   "cell_type": "code",
   "execution_count": 147,
   "metadata": {},
   "outputs": [
    {
     "data": {
      "text/html": [
       "<div>\n",
       "<style scoped>\n",
       "    .dataframe tbody tr th:only-of-type {\n",
       "        vertical-align: middle;\n",
       "    }\n",
       "\n",
       "    .dataframe tbody tr th {\n",
       "        vertical-align: top;\n",
       "    }\n",
       "\n",
       "    .dataframe thead th {\n",
       "        text-align: right;\n",
       "    }\n",
       "</style>\n",
       "<table border=\"1\" class=\"dataframe\">\n",
       "  <thead>\n",
       "    <tr style=\"text-align: right;\">\n",
       "      <th></th>\n",
       "      <th>file_path</th>\n",
       "      <th>file_name</th>\n",
       "      <th>img_idx</th>\n",
       "      <th>type</th>\n",
       "      <th>ext</th>\n",
       "    </tr>\n",
       "  </thead>\n",
       "  <tbody>\n",
       "    <tr>\n",
       "      <th>0</th>\n",
       "      <td>./images\\Test_0.jpg</td>\n",
       "      <td>Test_0.jpg</td>\n",
       "      <td>0</td>\n",
       "      <td>Test</td>\n",
       "      <td>jpg</td>\n",
       "    </tr>\n",
       "    <tr>\n",
       "      <th>1</th>\n",
       "      <td>./images\\Test_1.jpg</td>\n",
       "      <td>Test_1.jpg</td>\n",
       "      <td>1</td>\n",
       "      <td>Test</td>\n",
       "      <td>jpg</td>\n",
       "    </tr>\n",
       "    <tr>\n",
       "      <th>2</th>\n",
       "      <td>./images\\Test_10.jpg</td>\n",
       "      <td>Test_10.jpg</td>\n",
       "      <td>10</td>\n",
       "      <td>Test</td>\n",
       "      <td>jpg</td>\n",
       "    </tr>\n",
       "    <tr>\n",
       "      <th>3</th>\n",
       "      <td>./images\\Test_100.jpg</td>\n",
       "      <td>Test_100.jpg</td>\n",
       "      <td>100</td>\n",
       "      <td>Test</td>\n",
       "      <td>jpg</td>\n",
       "    </tr>\n",
       "    <tr>\n",
       "      <th>4</th>\n",
       "      <td>./images\\Test_1000.jpg</td>\n",
       "      <td>Test_1000.jpg</td>\n",
       "      <td>1000</td>\n",
       "      <td>Test</td>\n",
       "      <td>jpg</td>\n",
       "    </tr>\n",
       "    <tr>\n",
       "      <th>...</th>\n",
       "      <td>...</td>\n",
       "      <td>...</td>\n",
       "      <td>...</td>\n",
       "      <td>...</td>\n",
       "      <td>...</td>\n",
       "    </tr>\n",
       "    <tr>\n",
       "      <th>3637</th>\n",
       "      <td>./images\\Train_995.jpg</td>\n",
       "      <td>Train_995.jpg</td>\n",
       "      <td>995</td>\n",
       "      <td>Train</td>\n",
       "      <td>jpg</td>\n",
       "    </tr>\n",
       "    <tr>\n",
       "      <th>3638</th>\n",
       "      <td>./images\\Train_996.jpg</td>\n",
       "      <td>Train_996.jpg</td>\n",
       "      <td>996</td>\n",
       "      <td>Train</td>\n",
       "      <td>jpg</td>\n",
       "    </tr>\n",
       "    <tr>\n",
       "      <th>3639</th>\n",
       "      <td>./images\\Train_997.jpg</td>\n",
       "      <td>Train_997.jpg</td>\n",
       "      <td>997</td>\n",
       "      <td>Train</td>\n",
       "      <td>jpg</td>\n",
       "    </tr>\n",
       "    <tr>\n",
       "      <th>3640</th>\n",
       "      <td>./images\\Train_998.jpg</td>\n",
       "      <td>Train_998.jpg</td>\n",
       "      <td>998</td>\n",
       "      <td>Train</td>\n",
       "      <td>jpg</td>\n",
       "    </tr>\n",
       "    <tr>\n",
       "      <th>3641</th>\n",
       "      <td>./images\\Train_999.jpg</td>\n",
       "      <td>Train_999.jpg</td>\n",
       "      <td>999</td>\n",
       "      <td>Train</td>\n",
       "      <td>jpg</td>\n",
       "    </tr>\n",
       "  </tbody>\n",
       "</table>\n",
       "<p>3642 rows × 5 columns</p>\n",
       "</div>"
      ],
      "text/plain": [
       "                   file_path      file_name  img_idx   type  ext\n",
       "0        ./images\\Test_0.jpg     Test_0.jpg        0   Test  jpg\n",
       "1        ./images\\Test_1.jpg     Test_1.jpg        1   Test  jpg\n",
       "2       ./images\\Test_10.jpg    Test_10.jpg       10   Test  jpg\n",
       "3      ./images\\Test_100.jpg   Test_100.jpg      100   Test  jpg\n",
       "4     ./images\\Test_1000.jpg  Test_1000.jpg     1000   Test  jpg\n",
       "...                      ...            ...      ...    ...  ...\n",
       "3637  ./images\\Train_995.jpg  Train_995.jpg      995  Train  jpg\n",
       "3638  ./images\\Train_996.jpg  Train_996.jpg      996  Train  jpg\n",
       "3639  ./images\\Train_997.jpg  Train_997.jpg      997  Train  jpg\n",
       "3640  ./images\\Train_998.jpg  Train_998.jpg      998  Train  jpg\n",
       "3641  ./images\\Train_999.jpg  Train_999.jpg      999  Train  jpg\n",
       "\n",
       "[3642 rows x 5 columns]"
      ]
     },
     "execution_count": 147,
     "metadata": {},
     "output_type": "execute_result"
    }
   ],
   "source": [
    "df"
   ]
  },
  {
   "cell_type": "code",
   "execution_count": 148,
   "metadata": {},
   "outputs": [
    {
     "data": {
      "text/html": [
       "<div>\n",
       "<style scoped>\n",
       "    .dataframe tbody tr th:only-of-type {\n",
       "        vertical-align: middle;\n",
       "    }\n",
       "\n",
       "    .dataframe tbody tr th {\n",
       "        vertical-align: top;\n",
       "    }\n",
       "\n",
       "    .dataframe thead th {\n",
       "        text-align: right;\n",
       "    }\n",
       "</style>\n",
       "<table border=\"1\" class=\"dataframe\">\n",
       "  <thead>\n",
       "    <tr style=\"text-align: right;\">\n",
       "      <th></th>\n",
       "    </tr>\n",
       "  </thead>\n",
       "  <tbody>\n",
       "  </tbody>\n",
       "</table>\n",
       "</div>"
      ],
      "text/plain": [
       "Empty DataFrame\n",
       "Columns: []\n",
       "Index: []"
      ]
     },
     "execution_count": 148,
     "metadata": {},
     "output_type": "execute_result"
    }
   ],
   "source": [
    "df = pd.DataFrame()\n",
    "df"
   ]
  },
  {
   "cell_type": "code",
   "execution_count": 149,
   "metadata": {},
   "outputs": [
    {
     "data": {
      "text/html": [
       "<div>\n",
       "<style scoped>\n",
       "    .dataframe tbody tr th:only-of-type {\n",
       "        vertical-align: middle;\n",
       "    }\n",
       "\n",
       "    .dataframe tbody tr th {\n",
       "        vertical-align: top;\n",
       "    }\n",
       "\n",
       "    .dataframe thead th {\n",
       "        text-align: right;\n",
       "    }\n",
       "</style>\n",
       "<table border=\"1\" class=\"dataframe\">\n",
       "  <thead>\n",
       "    <tr style=\"text-align: right;\">\n",
       "      <th></th>\n",
       "      <th>file_path</th>\n",
       "      <th>file_name</th>\n",
       "      <th>img_idx</th>\n",
       "      <th>type</th>\n",
       "      <th>ext</th>\n",
       "    </tr>\n",
       "  </thead>\n",
       "  <tbody>\n",
       "    <tr>\n",
       "      <th>0</th>\n",
       "      <td>./images\\Test_0.jpg</td>\n",
       "      <td>Test_0.jpg</td>\n",
       "      <td>0</td>\n",
       "      <td>Test</td>\n",
       "      <td>jpg</td>\n",
       "    </tr>\n",
       "    <tr>\n",
       "      <th>1</th>\n",
       "      <td>./images\\Test_1.jpg</td>\n",
       "      <td>Test_1.jpg</td>\n",
       "      <td>1</td>\n",
       "      <td>Test</td>\n",
       "      <td>jpg</td>\n",
       "    </tr>\n",
       "    <tr>\n",
       "      <th>2</th>\n",
       "      <td>./images\\Test_10.jpg</td>\n",
       "      <td>Test_10.jpg</td>\n",
       "      <td>10</td>\n",
       "      <td>Test</td>\n",
       "      <td>jpg</td>\n",
       "    </tr>\n",
       "    <tr>\n",
       "      <th>3</th>\n",
       "      <td>./images\\Test_100.jpg</td>\n",
       "      <td>Test_100.jpg</td>\n",
       "      <td>100</td>\n",
       "      <td>Test</td>\n",
       "      <td>jpg</td>\n",
       "    </tr>\n",
       "    <tr>\n",
       "      <th>4</th>\n",
       "      <td>./images\\Test_1000.jpg</td>\n",
       "      <td>Test_1000.jpg</td>\n",
       "      <td>1000</td>\n",
       "      <td>Test</td>\n",
       "      <td>jpg</td>\n",
       "    </tr>\n",
       "    <tr>\n",
       "      <th>...</th>\n",
       "      <td>...</td>\n",
       "      <td>...</td>\n",
       "      <td>...</td>\n",
       "      <td>...</td>\n",
       "      <td>...</td>\n",
       "    </tr>\n",
       "    <tr>\n",
       "      <th>3637</th>\n",
       "      <td>./images\\Train_995.jpg</td>\n",
       "      <td>Train_995.jpg</td>\n",
       "      <td>995</td>\n",
       "      <td>Train</td>\n",
       "      <td>jpg</td>\n",
       "    </tr>\n",
       "    <tr>\n",
       "      <th>3638</th>\n",
       "      <td>./images\\Train_996.jpg</td>\n",
       "      <td>Train_996.jpg</td>\n",
       "      <td>996</td>\n",
       "      <td>Train</td>\n",
       "      <td>jpg</td>\n",
       "    </tr>\n",
       "    <tr>\n",
       "      <th>3639</th>\n",
       "      <td>./images\\Train_997.jpg</td>\n",
       "      <td>Train_997.jpg</td>\n",
       "      <td>997</td>\n",
       "      <td>Train</td>\n",
       "      <td>jpg</td>\n",
       "    </tr>\n",
       "    <tr>\n",
       "      <th>3640</th>\n",
       "      <td>./images\\Train_998.jpg</td>\n",
       "      <td>Train_998.jpg</td>\n",
       "      <td>998</td>\n",
       "      <td>Train</td>\n",
       "      <td>jpg</td>\n",
       "    </tr>\n",
       "    <tr>\n",
       "      <th>3641</th>\n",
       "      <td>./images\\Train_999.jpg</td>\n",
       "      <td>Train_999.jpg</td>\n",
       "      <td>999</td>\n",
       "      <td>Train</td>\n",
       "      <td>jpg</td>\n",
       "    </tr>\n",
       "  </tbody>\n",
       "</table>\n",
       "<p>3642 rows × 5 columns</p>\n",
       "</div>"
      ],
      "text/plain": [
       "                   file_path      file_name  img_idx   type  ext\n",
       "0        ./images\\Test_0.jpg     Test_0.jpg        0   Test  jpg\n",
       "1        ./images\\Test_1.jpg     Test_1.jpg        1   Test  jpg\n",
       "2       ./images\\Test_10.jpg    Test_10.jpg       10   Test  jpg\n",
       "3      ./images\\Test_100.jpg   Test_100.jpg      100   Test  jpg\n",
       "4     ./images\\Test_1000.jpg  Test_1000.jpg     1000   Test  jpg\n",
       "...                      ...            ...      ...    ...  ...\n",
       "3637  ./images\\Train_995.jpg  Train_995.jpg      995  Train  jpg\n",
       "3638  ./images\\Train_996.jpg  Train_996.jpg      996  Train  jpg\n",
       "3639  ./images\\Train_997.jpg  Train_997.jpg      997  Train  jpg\n",
       "3640  ./images\\Train_998.jpg  Train_998.jpg      998  Train  jpg\n",
       "3641  ./images\\Train_999.jpg  Train_999.jpg      999  Train  jpg\n",
       "\n",
       "[3642 rows x 5 columns]"
      ]
     },
     "execution_count": 149,
     "metadata": {},
     "output_type": "execute_result"
    }
   ],
   "source": [
    "df['file_path'] = glob.glob('./images/*')\n",
    "df[\"file_name\"] = df[\"file_path\"].str.split('\\\\').str[1]\n",
    "df[\"img_idx\"] = df[\"file_name\"].str.split('_').str[-1].str.split('.').str[0].astype(int)\n",
    "df[\"type\"] = df[\"file_name\"].str.split('_').str[0]\n",
    "df[\"ext\"] = df[\"file_name\"].str.split('.').str[-1]\n",
    "df"
   ]
  },
  {
   "cell_type": "code",
   "execution_count": 150,
   "metadata": {},
   "outputs": [
    {
     "data": {
      "text/html": [
       "<div>\n",
       "<style scoped>\n",
       "    .dataframe tbody tr th:only-of-type {\n",
       "        vertical-align: middle;\n",
       "    }\n",
       "\n",
       "    .dataframe tbody tr th {\n",
       "        vertical-align: top;\n",
       "    }\n",
       "\n",
       "    .dataframe thead th {\n",
       "        text-align: right;\n",
       "    }\n",
       "</style>\n",
       "<table border=\"1\" class=\"dataframe\">\n",
       "  <thead>\n",
       "    <tr style=\"text-align: right;\">\n",
       "      <th></th>\n",
       "      <th>file_path</th>\n",
       "      <th>file_name</th>\n",
       "      <th>img_idx</th>\n",
       "      <th>type</th>\n",
       "      <th>ext</th>\n",
       "    </tr>\n",
       "  </thead>\n",
       "  <tbody>\n",
       "    <tr>\n",
       "      <th>0</th>\n",
       "      <td>./images\\Test_0.jpg</td>\n",
       "      <td>Test_0.jpg</td>\n",
       "      <td>0</td>\n",
       "      <td>Test</td>\n",
       "      <td>jpg</td>\n",
       "    </tr>\n",
       "    <tr>\n",
       "      <th>1</th>\n",
       "      <td>./images\\Test_1.jpg</td>\n",
       "      <td>Test_1.jpg</td>\n",
       "      <td>1</td>\n",
       "      <td>Test</td>\n",
       "      <td>jpg</td>\n",
       "    </tr>\n",
       "    <tr>\n",
       "      <th>2</th>\n",
       "      <td>./images\\Test_10.jpg</td>\n",
       "      <td>Test_10.jpg</td>\n",
       "      <td>10</td>\n",
       "      <td>Test</td>\n",
       "      <td>jpg</td>\n",
       "    </tr>\n",
       "    <tr>\n",
       "      <th>3</th>\n",
       "      <td>./images\\Test_100.jpg</td>\n",
       "      <td>Test_100.jpg</td>\n",
       "      <td>100</td>\n",
       "      <td>Test</td>\n",
       "      <td>jpg</td>\n",
       "    </tr>\n",
       "    <tr>\n",
       "      <th>4</th>\n",
       "      <td>./images\\Test_1000.jpg</td>\n",
       "      <td>Test_1000.jpg</td>\n",
       "      <td>1000</td>\n",
       "      <td>Test</td>\n",
       "      <td>jpg</td>\n",
       "    </tr>\n",
       "    <tr>\n",
       "      <th>...</th>\n",
       "      <td>...</td>\n",
       "      <td>...</td>\n",
       "      <td>...</td>\n",
       "      <td>...</td>\n",
       "      <td>...</td>\n",
       "    </tr>\n",
       "    <tr>\n",
       "      <th>3637</th>\n",
       "      <td>./images\\Train_995.jpg</td>\n",
       "      <td>Train_995.jpg</td>\n",
       "      <td>995</td>\n",
       "      <td>Train</td>\n",
       "      <td>jpg</td>\n",
       "    </tr>\n",
       "    <tr>\n",
       "      <th>3638</th>\n",
       "      <td>./images\\Train_996.jpg</td>\n",
       "      <td>Train_996.jpg</td>\n",
       "      <td>996</td>\n",
       "      <td>Train</td>\n",
       "      <td>jpg</td>\n",
       "    </tr>\n",
       "    <tr>\n",
       "      <th>3639</th>\n",
       "      <td>./images\\Train_997.jpg</td>\n",
       "      <td>Train_997.jpg</td>\n",
       "      <td>997</td>\n",
       "      <td>Train</td>\n",
       "      <td>jpg</td>\n",
       "    </tr>\n",
       "    <tr>\n",
       "      <th>3640</th>\n",
       "      <td>./images\\Train_998.jpg</td>\n",
       "      <td>Train_998.jpg</td>\n",
       "      <td>998</td>\n",
       "      <td>Train</td>\n",
       "      <td>jpg</td>\n",
       "    </tr>\n",
       "    <tr>\n",
       "      <th>3641</th>\n",
       "      <td>./images\\Train_999.jpg</td>\n",
       "      <td>Train_999.jpg</td>\n",
       "      <td>999</td>\n",
       "      <td>Train</td>\n",
       "      <td>jpg</td>\n",
       "    </tr>\n",
       "  </tbody>\n",
       "</table>\n",
       "<p>3642 rows × 5 columns</p>\n",
       "</div>"
      ],
      "text/plain": [
       "                   file_path      file_name  img_idx   type  ext\n",
       "0        ./images\\Test_0.jpg     Test_0.jpg        0   Test  jpg\n",
       "1        ./images\\Test_1.jpg     Test_1.jpg        1   Test  jpg\n",
       "2       ./images\\Test_10.jpg    Test_10.jpg       10   Test  jpg\n",
       "3      ./images\\Test_100.jpg   Test_100.jpg      100   Test  jpg\n",
       "4     ./images\\Test_1000.jpg  Test_1000.jpg     1000   Test  jpg\n",
       "...                      ...            ...      ...    ...  ...\n",
       "3637  ./images\\Train_995.jpg  Train_995.jpg      995  Train  jpg\n",
       "3638  ./images\\Train_996.jpg  Train_996.jpg      996  Train  jpg\n",
       "3639  ./images\\Train_997.jpg  Train_997.jpg      997  Train  jpg\n",
       "3640  ./images\\Train_998.jpg  Train_998.jpg      998  Train  jpg\n",
       "3641  ./images\\Train_999.jpg  Train_999.jpg      999  Train  jpg\n",
       "\n",
       "[3642 rows x 5 columns]"
      ]
     },
     "execution_count": 150,
     "metadata": {},
     "output_type": "execute_result"
    }
   ],
   "source": [
    "df[\"ext\"] = df[\"file_name\"].str.split('.').str[-1]\n",
    "df"
   ]
  },
  {
   "attachments": {},
   "cell_type": "markdown",
   "metadata": {},
   "source": [
    "### train test로 나누기 및 train.csv에서 healthy, multiple_diseases, rust, scab 추가"
   ]
  },
  {
   "cell_type": "code",
   "execution_count": 151,
   "metadata": {},
   "outputs": [],
   "source": [
    "df_full = df[df[\"type\"] == \"Train\"].sort_values(\"img_idx\").reset_index(drop=True)\n",
    "df_full_labels = pd.read_csv(\"./train.csv\").rename(columns={\"image_id\": \"file_name\"})\n",
    "df_full_labels[\"file_name\"] = df_full_labels[\"file_name\"].apply(lambda x: x + \".jpg\")\n",
    "df_full = df_full.merge(df_full_labels, how=\"left\", on=\"file_name\")\n",
    "\n",
    "# test\n",
    "df_test = df[df[\"type\"] == \"Test\"].sort_values(\"img_idx\").reset_index(drop=True)"
   ]
  },
  {
   "cell_type": "code",
   "execution_count": 152,
   "metadata": {},
   "outputs": [],
   "source": [
    "\n",
    "stratVec = df_full[\"healthy\"].astype(\"str\") + \"_\" + \\\n",
    "    df_full[\"multiple_diseases\"].astype(\"str\") + \"_\" + \\\n",
    "    df_full[\"rust\"].astype(\"str\") + \"_\" + \\\n",
    "    df_full[\"scab\"].astype(\"str\")\n",
    "\n",
    "df_train, df_valid = train_test_split(df_full, test_size=0.2, stratify=stratVec, shuffle=True, random_state=42)"
   ]
  },
  {
   "attachments": {},
   "cell_type": "markdown",
   "metadata": {},
   "source": [
    "### 피클로 저장해놓기\n"
   ]
  },
  {
   "cell_type": "code",
   "execution_count": 153,
   "metadata": {},
   "outputs": [],
   "source": [
    "pickleIO(df_full, \"./df_full.pkl\", \"w\")\n",
    "pickleIO(df_test, \"./df_test.pkl\", \"w\")"
   ]
  },
  {
   "cell_type": "code",
   "execution_count": 154,
   "metadata": {},
   "outputs": [],
   "source": [
    "pickleIO(df_train.reset_index(drop=True), \"./df_train.pkl\", \"w\")\n",
    "pickleIO(df_valid.reset_index(drop=True), \"./df_valid.pkl\", \"w\")"
   ]
  },
  {
   "attachments": {},
   "cell_type": "markdown",
   "metadata": {},
   "source": [
    "### train_image , test_image 파일만들어서 사진들 구분해서 놓기"
   ]
  },
  {
   "cell_type": "code",
   "execution_count": 155,
   "metadata": {},
   "outputs": [],
   "source": [
    "\n",
    "save_all_train = \"./train_images\"\n",
    "save_all_test = './test_images'\n",
    "os.makedirs(save_all_train, exist_ok=True)\n",
    "os.makedirs(save_all_test, exist_ok=True)\n",
    "# df_train 이미지 전체\n",
    "for img_path in df_full[\"file_path\"]:\n",
    "    img_name = os.path.basename(img_path)\n",
    "    save_path = os.path.join(save_all_train, img_name)\n",
    "    shutil.copy(img_path, save_path)\n",
    "\n",
    "# df_test 이미지 전체\n",
    "for img_path in df_test[\"file_path\"]:\n",
    "    img_name = os.path.basename(img_path)\n",
    "    save_path = os.path.join(save_all_test, img_name)\n",
    "    shutil.copy(img_path, save_path)"
   ]
  },
  {
   "attachments": {},
   "cell_type": "markdown",
   "metadata": {},
   "source": [
    "### train 이미지에서 또 다시 train이랑 valid으로 나누기\n"
   ]
  },
  {
   "cell_type": "code",
   "execution_count": 156,
   "metadata": {},
   "outputs": [],
   "source": [
    "save_dir_train = \"./train_train\"\n",
    "save_dir_valid = \"./train_valid\"\n",
    "\n",
    "\n",
    "# 폴더 생성\n",
    "os.makedirs(save_dir_train, exist_ok=True)\n",
    "os.makedirs(save_dir_valid, exist_ok=True)\n",
    "\n",
    "# # df_train_train 이미지 저장\n",
    "# for img_path in df_train[\"file_path\"]:\n",
    "#     img_name = os.path.basename(img_path)\n",
    "#     save_path = os.path.join(save_dir_train, img_name)\n",
    "#     shutil.copy(img_path, save_path)\n",
    "\n",
    "# # df_train_valid 이미지 저장\n",
    "# for img_path in df_valid[\"file_path\"]:\n",
    "#     img_name = os.path.basename(img_path)\n",
    "#     save_path = os.path.join(save_dir_valid, img_name)\n",
    "#     shutil.copy(img_path, save_path)"
   ]
  },
  {
   "attachments": {},
   "cell_type": "markdown",
   "metadata": {},
   "source": [
    "### 이미지 크기 바꾸기"
   ]
  },
  {
   "cell_type": "code",
   "execution_count": 157,
   "metadata": {},
   "outputs": [],
   "source": [
    "# train_train_resized_path = \"./plant-pathology-2020-fgvc7/train_train_images_resized\"\n",
    "# train_valid_resized_path = \"./plant-pathology-2020-fgvc7/train_valid_images_resized\"\n",
    "\n",
    "# os.makedirs(train_train_resized_path, exist_ok=True)\n",
    "# os.makedirs(train_valid_resized_path, exist_ok=True)\n",
    "\n",
    "# for path, name in tqdm(zip(df_train[\"file_path\"], df_train[\"file_name\"])):\n",
    "#     img = cv2.imread(path)\n",
    "#     img = cv2.resize(img, dsize=(CFG.img_size, CFG.img_size), interpolation=cv2.INTER_LINEAR)\n",
    "#     cv2.imwrite(f\"{train_train_resized_path}/{name}\", img)\n",
    "\n",
    "# for path, name in tqdm(zip(df_valid[\"file_path\"], df_valid[\"file_name\"])):\n",
    "#     img = cv2.imread(path)\n",
    "#     img = cv2.resize(img, dsize=(CFG.img_size, CFG.img_size), interpolation=cv2.INTER_LINEAR)\n",
    "#     cv2.imwrite(f\"/{train_valid_resized_path}/{name}\", img)"
   ]
  },
  {
   "cell_type": "code",
   "execution_count": 158,
   "metadata": {},
   "outputs": [],
   "source": [
    "train_train_list =[]\n",
    "for path in df_train[\"file_path\"]:\n",
    "    img = plt.imread(path)\n",
    "    train_train_list.append(img)\n",
    "\n",
    "train_valid_list =[]\n",
    "for path in df_valid[\"file_path\"]:\n",
    "    img = plt.imread(path)\n",
    "    train_valid_list.append(img)"
   ]
  },
  {
   "attachments": {},
   "cell_type": "markdown",
   "metadata": {},
   "source": [
    "### 이미지를 증식 시키기 위해서 crossentropy이기 때문에 클래스를 만들기 위해서 이렇게 나눴다."
   ]
  },
  {
   "cell_type": "code",
   "execution_count": 159,
   "metadata": {},
   "outputs": [],
   "source": [
    "df_train_healthy =df_train[df_train['healthy']==1]\n",
    "df_train_multiple_diseases =df_train[df_train['multiple_diseases']==1]\n",
    "df_train_rust =df_train[df_train['rust']==1]\n",
    "df_train_scab =df_train[df_train['scab']==1]\n",
    "\n",
    "df_valid_healthy =df_valid[df_valid['healthy']==1]\n",
    "df_valid_multiple_diseases =df_valid[df_valid['multiple_diseases']==1]\n",
    "df_valid_rust =df_valid[df_valid['rust']==1]\n",
    "df_valid_scab =df_valid[df_valid['scab']==1]"
   ]
  },
  {
   "attachments": {},
   "cell_type": "markdown",
   "metadata": {},
   "source": [
    "### train_train_ 파일 클래스를 위한 만들기"
   ]
  },
  {
   "cell_type": "code",
   "execution_count": 160,
   "metadata": {},
   "outputs": [],
   "source": [
    "\n",
    "df_train_train_healthy_path = './train_train/healthy'\n",
    "os.makedirs(df_train_train_healthy_path, exist_ok=True)\n",
    "for img_path in df_train_healthy['file_path']:\n",
    "    img_name = os.path.basename(img_path)\n",
    "    save_path = os.path.join(df_train_train_healthy_path, img_name)\n",
    "    shutil.copy(img_path, save_path)\n",
    "\n",
    "\n",
    "df_train_train_multiple_diseases_path = './train_train/multiple_diseases'\n",
    "os.makedirs(df_train_train_multiple_diseases_path, exist_ok=True)\n",
    "\n",
    "for img_path in df_train_multiple_diseases['file_path']:\n",
    "    img_name = os.path.basename(img_path)\n",
    "    save_path = os.path.join(df_train_train_multiple_diseases_path, img_name)\n",
    "    shutil.copy(img_path, save_path)\n",
    "df_train_train_rust_path = './train_train/rust'\n",
    "os.makedirs(df_train_train_rust_path, exist_ok=True)\n",
    "\n",
    "for img_path in df_train_rust['file_path']:\n",
    "    img_name = os.path.basename(img_path)\n",
    "    save_path = os.path.join(df_train_train_rust_path, img_name)\n",
    "    shutil.copy(img_path, save_path)\n",
    "df_train_train_scab_path = './train_train/scab'\n",
    "os.makedirs(df_train_train_scab_path, exist_ok=True)\n",
    "\n",
    "for img_path in df_train_scab['file_path']:\n",
    "    img_name = os.path.basename(img_path)\n",
    "    save_path = os.path.join(df_train_train_scab_path, img_name)\n",
    "    shutil.copy(img_path, save_path)\n",
    "\n"
   ]
  },
  {
   "attachments": {},
   "cell_type": "markdown",
   "metadata": {},
   "source": [
    "### train_valid_ 파일 클래스를 위한 만들기"
   ]
  },
  {
   "cell_type": "code",
   "execution_count": 161,
   "metadata": {},
   "outputs": [],
   "source": [
    "\n",
    "df_train_valid_healthy_path = './train_valid/healthy'\n",
    "os.makedirs(df_train_valid_healthy_path, exist_ok=True)\n",
    "\n",
    "for img_path in df_valid_healthy['file_path']:\n",
    "    img_name = os.path.basename(img_path)\n",
    "    save_path = os.path.join(df_train_valid_healthy_path, img_name)\n",
    "    shutil.copy(img_path, save_path)\n",
    "\n",
    "\n",
    "df_train_valid_multiple_diseases_path = './train_valid/muliple_diseases/'\n",
    "os.makedirs(df_train_valid_multiple_diseases_path, exist_ok=True)\n",
    "\n",
    "for img_path in df_valid_multiple_diseases['file_path']:\n",
    "    img_name = os.path.basename(img_path)\n",
    "    save_path = os.path.join(df_train_valid_multiple_diseases_path, img_name)\n",
    "    shutil.copy(img_path, save_path)\n",
    "\n",
    "df_train_valid_rust_path = './train_valid/rust'\n",
    "os.makedirs(df_train_valid_rust_path, exist_ok=True)\n",
    "\n",
    "for img_path in df_valid_rust['file_path']:\n",
    "    img_name = os.path.basename(img_path)\n",
    "    save_path = os.path.join(df_train_valid_rust_path, img_name)\n",
    "    shutil.copy(img_path, save_path)\n",
    "\n",
    "df_train_valid_scab_path = './train_valid/scab'\n",
    "os.makedirs(df_train_valid_scab_path, exist_ok=True)\n",
    "\n",
    "for img_path in df_valid_scab['file_path']:\n",
    "    img_name = os.path.basename(img_path)\n",
    "    save_path = os.path.join(df_train_valid_scab_path, img_name)\n",
    "    shutil.copy(img_path, save_path)\n",
    "\n"
   ]
  },
  {
   "cell_type": "code",
   "execution_count": 162,
   "metadata": {},
   "outputs": [
    {
     "data": {
      "text/plain": [
       "(1365, 2048, 3)"
      ]
     },
     "execution_count": 162,
     "metadata": {},
     "output_type": "execute_result"
    }
   ],
   "source": [
    "train_train_list[0].shape"
   ]
  },
  {
   "cell_type": "code",
   "execution_count": 163,
   "metadata": {},
   "outputs": [],
   "source": [
    "train_datagen = ImageDataGenerator(\n",
    "    rescale=1./255,\n",
    "    horizontal_flip=True,\n",
    "    vertical_flip=True,\n",
    "    rotation_range=5,\n",
    "    shear_range=0.7,\n",
    "    width_shift_range=0.1,\n",
    "    fill_mode='nearest')\n",
    "\n",
    "valid_datagen = ImageDataGenerator(rescale=1./255)"
   ]
  },
  {
   "cell_type": "code",
   "execution_count": 164,
   "metadata": {},
   "outputs": [
    {
     "name": "stdout",
     "output_type": "stream",
     "text": [
      "Found 1456 images belonging to 4 classes.\n"
     ]
    }
   ],
   "source": [
    "train_generator = train_datagen.flow_from_directory(\n",
    "                './train_train',\n",
    "                target_size = (CFG.img_size,CFG.img_size),\n",
    "                batch_size = CFG.batch_size,\n",
    "                class_mode = 'categorical'\n",
    "            )"
   ]
  },
  {
   "cell_type": "code",
   "execution_count": 165,
   "metadata": {},
   "outputs": [
    {
     "data": {
      "text/plain": [
       "1365"
      ]
     },
     "execution_count": 165,
     "metadata": {},
     "output_type": "execute_result"
    }
   ],
   "source": [
    "2048\n",
    "1365"
   ]
  },
  {
   "cell_type": "code",
   "execution_count": 166,
   "metadata": {},
   "outputs": [],
   "source": [
    "# 테스트 데이터 셋을 이미지 증식 설정 안함 (매우 중요)\n",
    "test_datagen = ImageDataGenerator(rescale=1./255)"
   ]
  },
  {
   "cell_type": "code",
   "execution_count": 167,
   "metadata": {},
   "outputs": [
    {
     "name": "stdout",
     "output_type": "stream",
     "text": [
      "Found 365 images belonging to 4 classes.\n"
     ]
    }
   ],
   "source": [
    "test_generator = test_datagen.flow_from_directory(\n",
    "                  './train_valid',\n",
    "                  target_size = (CFG.img_size,CFG.img_size),\n",
    "                  batch_size = CFG.batch_size,\n",
    "                  class_mode='categorical'\n",
    "              )"
   ]
  },
  {
   "cell_type": "code",
   "execution_count": 168,
   "metadata": {},
   "outputs": [
    {
     "name": "stdout",
     "output_type": "stream",
     "text": [
      "Model: \"sequential_4\"\n",
      "_________________________________________________________________\n",
      " Layer (type)                Output Shape              Param #   \n",
      "=================================================================\n",
      " conv2d_20 (Conv2D)          (None, 514, 514, 32)      896       \n",
      "                                                                 \n",
      " activation_20 (Activation)  (None, 514, 514, 32)      0         \n",
      "                                                                 \n",
      " max_pooling2d_20 (MaxPoolin  (None, 257, 257, 32)     0         \n",
      " g2D)                                                            \n",
      "                                                                 \n",
      " conv2d_21 (Conv2D)          (None, 255, 255, 64)      18496     \n",
      "                                                                 \n",
      " activation_21 (Activation)  (None, 255, 255, 64)      0         \n",
      "                                                                 \n",
      " max_pooling2d_21 (MaxPoolin  (None, 127, 127, 64)     0         \n",
      " g2D)                                                            \n",
      "                                                                 \n",
      " conv2d_22 (Conv2D)          (None, 125, 125, 128)     73856     \n",
      "                                                                 \n",
      " activation_22 (Activation)  (None, 125, 125, 128)     0         \n",
      "                                                                 \n",
      " max_pooling2d_22 (MaxPoolin  (None, 62, 62, 128)      0         \n",
      " g2D)                                                            \n",
      "                                                                 \n",
      " conv2d_23 (Conv2D)          (None, 60, 60, 256)       295168    \n",
      "                                                                 \n",
      " activation_23 (Activation)  (None, 60, 60, 256)       0         \n",
      "                                                                 \n",
      " max_pooling2d_23 (MaxPoolin  (None, 30, 30, 256)      0         \n",
      " g2D)                                                            \n",
      "                                                                 \n",
      " conv2d_24 (Conv2D)          (None, 28, 28, 512)       1180160   \n",
      "                                                                 \n",
      " activation_24 (Activation)  (None, 28, 28, 512)       0         \n",
      "                                                                 \n",
      " max_pooling2d_24 (MaxPoolin  (None, 14, 14, 512)      0         \n",
      " g2D)                                                            \n",
      "                                                                 \n",
      " flatten_4 (Flatten)         (None, 100352)            0         \n",
      "                                                                 \n",
      " dense_8 (Dense)             (None, 512)               51380736  \n",
      "                                                                 \n",
      " dense_9 (Dense)             (None, 4)                 2052      \n",
      "                                                                 \n",
      "=================================================================\n",
      "Total params: 52,951,364\n",
      "Trainable params: 52,951,364\n",
      "Non-trainable params: 0\n",
      "_________________________________________________________________\n"
     ]
    }
   ],
   "source": [
    "\n",
    "model = Sequential()\n",
    "model.add(Conv2D(32, (3,3), input_shape=(CFG.img_size,CFG.img_size,CFG.channels)))\n",
    "# channel >> 1: 흑백, 3: 컬러(R,G,B)\n",
    "model.add(Activation('relu'))\n",
    "model.add(MaxPooling2D(pool_size=(2, 2)))\n",
    "\n",
    "model.add(Conv2D(64, (3, 3)))\n",
    "model.add(Activation('relu'))\n",
    "model.add(MaxPooling2D(pool_size=(2, 2)))\n",
    "\n",
    "model.add(Conv2D(128, (3, 3)))\n",
    "model.add(Activation('relu'))\n",
    "model.add(MaxPooling2D(pool_size=(2, 2)))\n",
    "\n",
    "model.add(Conv2D(256, (3, 3)))\n",
    "model.add(Activation('relu'))\n",
    "model.add(MaxPooling2D(pool_size=(2, 2)))\n",
    "\n",
    "model.add(Conv2D(512, (3, 3)))  # 추가된 층 (512개의 필터)\n",
    "model.add(Activation('relu'))\n",
    "model.add(MaxPooling2D(pool_size=(2, 2)))\n",
    "\n",
    "model.add(Flatten())\n",
    "model.add(Dense(512, activation='relu'))\n",
    "model.add(Dense(4, activation='softmax'))\n",
    "\n",
    "model.summary()"
   ]
  },
  {
   "cell_type": "code",
   "execution_count": 169,
   "metadata": {},
   "outputs": [],
   "source": [
    "model.compile(loss='categorical_crossentropy',\n",
    "              optimizer=optimizers.Adam(learning_rate=0.0002),\n",
    "              metrics=['accuracy']\n",
    "              )\n"
   ]
  },
  {
   "attachments": {},
   "cell_type": "markdown",
   "metadata": {},
   "source": [
    "### train_train이랑 train_valid으로 모델 학습시키기"
   ]
  },
  {
   "cell_type": "code",
   "execution_count": 170,
   "metadata": {},
   "outputs": [],
   "source": [
    "# 학습 조기 중단\n",
    "MODEL_DIR = './model'\n",
    "if not os.path.exists(MODEL_DIR): \n",
    "    os.mkdir(MODEL_DIR)\n",
    "\n",
    "modelpath = './model/first.hdf5'\n",
    "checkpointer = ModelCheckpoint(filepath = modelpath, monitor='val_loss',\n",
    "                               verbose=1, save_best_only=True)\n",
    "early_stopping_callback = EarlyStopping(monitor='val_loss', patience=7)"
   ]
  },
  {
   "cell_type": "code",
   "execution_count": 171,
   "metadata": {},
   "outputs": [
    {
     "name": "stdout",
     "output_type": "stream",
     "text": [
      "Epoch 1/400\n",
      "292/292 [==============================] - ETA: 0s - loss: 1.2645 - accuracy: 0.3262\n",
      "Epoch 1: val_loss improved from inf to 1.24871, saving model to ./model\\first.hdf5\n",
      "292/292 [==============================] - 64s 216ms/step - loss: 1.2645 - accuracy: 0.3262 - val_loss: 1.2487 - val_accuracy: 0.3200\n",
      "Epoch 2/400\n",
      "292/292 [==============================] - ETA: 0s - loss: 1.2310 - accuracy: 0.3970\n",
      "Epoch 2: val_loss did not improve from 1.24871\n",
      "292/292 [==============================] - 51s 173ms/step - loss: 1.2310 - accuracy: 0.3970 - val_loss: 1.2682 - val_accuracy: 0.4000\n",
      "Epoch 3/400\n",
      "292/292 [==============================] - ETA: 0s - loss: 0.9255 - accuracy: 0.6332\n",
      "Epoch 3: val_loss improved from 1.24871 to 0.80031, saving model to ./model\\first.hdf5\n",
      "292/292 [==============================] - 53s 180ms/step - loss: 0.9255 - accuracy: 0.6332 - val_loss: 0.8003 - val_accuracy: 0.7100\n",
      "Epoch 4/400\n",
      "292/292 [==============================] - ETA: 0s - loss: 0.6871 - accuracy: 0.7287\n",
      "Epoch 4: val_loss improved from 0.80031 to 0.65867, saving model to ./model\\first.hdf5\n",
      "292/292 [==============================] - 53s 181ms/step - loss: 0.6871 - accuracy: 0.7287 - val_loss: 0.6587 - val_accuracy: 0.7350\n",
      "Epoch 5/400\n",
      "292/292 [==============================] - ETA: 0s - loss: 0.5806 - accuracy: 0.7734\n",
      "Epoch 5: val_loss improved from 0.65867 to 0.55243, saving model to ./model\\first.hdf5\n",
      "292/292 [==============================] - 53s 181ms/step - loss: 0.5806 - accuracy: 0.7734 - val_loss: 0.5524 - val_accuracy: 0.8000\n",
      "Epoch 6/400\n",
      "292/292 [==============================] - ETA: 0s - loss: 0.5186 - accuracy: 0.8043\n",
      "Epoch 6: val_loss improved from 0.55243 to 0.51896, saving model to ./model\\first.hdf5\n",
      "292/292 [==============================] - 54s 183ms/step - loss: 0.5186 - accuracy: 0.8043 - val_loss: 0.5190 - val_accuracy: 0.8350\n",
      "Epoch 7/400\n",
      "292/292 [==============================] - ETA: 0s - loss: 0.4612 - accuracy: 0.8324\n",
      "Epoch 7: val_loss improved from 0.51896 to 0.39382, saving model to ./model\\first.hdf5\n",
      "292/292 [==============================] - 53s 181ms/step - loss: 0.4612 - accuracy: 0.8324 - val_loss: 0.3938 - val_accuracy: 0.8450\n",
      "Epoch 8/400\n",
      "292/292 [==============================] - ETA: 0s - loss: 0.3502 - accuracy: 0.8832\n",
      "Epoch 8: val_loss improved from 0.39382 to 0.33462, saving model to ./model\\first.hdf5\n",
      "292/292 [==============================] - 54s 184ms/step - loss: 0.3502 - accuracy: 0.8832 - val_loss: 0.3346 - val_accuracy: 0.8900\n",
      "Epoch 9/400\n",
      "292/292 [==============================] - ETA: 0s - loss: 0.3469 - accuracy: 0.8695\n",
      "Epoch 9: val_loss improved from 0.33462 to 0.29665, saving model to ./model\\first.hdf5\n",
      "292/292 [==============================] - 52s 179ms/step - loss: 0.3469 - accuracy: 0.8695 - val_loss: 0.2966 - val_accuracy: 0.8950\n",
      "Epoch 10/400\n",
      "292/292 [==============================] - ETA: 0s - loss: 0.3009 - accuracy: 0.8956\n",
      "Epoch 10: val_loss improved from 0.29665 to 0.29120, saving model to ./model\\first.hdf5\n",
      "292/292 [==============================] - 54s 183ms/step - loss: 0.3009 - accuracy: 0.8956 - val_loss: 0.2912 - val_accuracy: 0.9100\n",
      "Epoch 11/400\n",
      "292/292 [==============================] - ETA: 0s - loss: 0.2717 - accuracy: 0.9114\n",
      "Epoch 11: val_loss did not improve from 0.29120\n",
      "292/292 [==============================] - 52s 177ms/step - loss: 0.2717 - accuracy: 0.9114 - val_loss: 0.3296 - val_accuracy: 0.8950\n",
      "Epoch 12/400\n",
      "292/292 [==============================] - ETA: 0s - loss: 0.2477 - accuracy: 0.9162\n",
      "Epoch 12: val_loss improved from 0.29120 to 0.23750, saving model to ./model\\first.hdf5\n",
      "292/292 [==============================] - 55s 188ms/step - loss: 0.2477 - accuracy: 0.9162 - val_loss: 0.2375 - val_accuracy: 0.9000\n",
      "Epoch 13/400\n",
      "292/292 [==============================] - ETA: 0s - loss: 0.2626 - accuracy: 0.9107\n",
      "Epoch 13: val_loss improved from 0.23750 to 0.23590, saving model to ./model\\first.hdf5\n",
      "292/292 [==============================] - 54s 185ms/step - loss: 0.2626 - accuracy: 0.9107 - val_loss: 0.2359 - val_accuracy: 0.9150\n",
      "Epoch 14/400\n",
      "292/292 [==============================] - ETA: 0s - loss: 0.2481 - accuracy: 0.9128\n",
      "Epoch 14: val_loss did not improve from 0.23590\n",
      "292/292 [==============================] - 52s 178ms/step - loss: 0.2481 - accuracy: 0.9128 - val_loss: 0.2907 - val_accuracy: 0.9050\n",
      "Epoch 15/400\n",
      "292/292 [==============================] - ETA: 0s - loss: 0.2179 - accuracy: 0.9265\n",
      "Epoch 15: val_loss did not improve from 0.23590\n",
      "292/292 [==============================] - 51s 173ms/step - loss: 0.2179 - accuracy: 0.9265 - val_loss: 0.2648 - val_accuracy: 0.9200\n",
      "Epoch 16/400\n",
      "292/292 [==============================] - ETA: 0s - loss: 0.2033 - accuracy: 0.9375\n",
      "Epoch 16: val_loss did not improve from 0.23590\n",
      "292/292 [==============================] - 51s 173ms/step - loss: 0.2033 - accuracy: 0.9375 - val_loss: 0.2482 - val_accuracy: 0.9200\n",
      "Epoch 17/400\n",
      "292/292 [==============================] - ETA: 0s - loss: 0.2093 - accuracy: 0.9327\n",
      "Epoch 17: val_loss improved from 0.23590 to 0.22344, saving model to ./model\\first.hdf5\n",
      "292/292 [==============================] - 53s 181ms/step - loss: 0.2093 - accuracy: 0.9327 - val_loss: 0.2234 - val_accuracy: 0.9150\n",
      "Epoch 18/400\n",
      "292/292 [==============================] - ETA: 0s - loss: 0.1868 - accuracy: 0.9402\n",
      "Epoch 18: val_loss did not improve from 0.22344\n",
      "292/292 [==============================] - 53s 180ms/step - loss: 0.1868 - accuracy: 0.9402 - val_loss: 0.2407 - val_accuracy: 0.9100\n",
      "Epoch 19/400\n",
      "292/292 [==============================] - ETA: 0s - loss: 0.1790 - accuracy: 0.9389\n",
      "Epoch 19: val_loss improved from 0.22344 to 0.19573, saving model to ./model\\first.hdf5\n",
      "292/292 [==============================] - 51s 175ms/step - loss: 0.1790 - accuracy: 0.9389 - val_loss: 0.1957 - val_accuracy: 0.9300\n",
      "Epoch 20/400\n",
      "292/292 [==============================] - ETA: 0s - loss: 0.2084 - accuracy: 0.9368\n",
      "Epoch 20: val_loss did not improve from 0.19573\n",
      "292/292 [==============================] - 51s 176ms/step - loss: 0.2084 - accuracy: 0.9368 - val_loss: 0.2364 - val_accuracy: 0.9350\n",
      "Epoch 21/400\n",
      "292/292 [==============================] - ETA: 0s - loss: 0.1595 - accuracy: 0.9499\n",
      "Epoch 21: val_loss did not improve from 0.19573\n",
      "292/292 [==============================] - 51s 174ms/step - loss: 0.1595 - accuracy: 0.9499 - val_loss: 0.2237 - val_accuracy: 0.9200\n",
      "Epoch 22/400\n",
      "292/292 [==============================] - ETA: 0s - loss: 0.2039 - accuracy: 0.9368\n",
      "Epoch 22: val_loss did not improve from 0.19573\n",
      "292/292 [==============================] - 50s 172ms/step - loss: 0.2039 - accuracy: 0.9368 - val_loss: 0.2615 - val_accuracy: 0.9000\n",
      "Epoch 23/400\n",
      "292/292 [==============================] - ETA: 0s - loss: 0.1603 - accuracy: 0.9505\n",
      "Epoch 23: val_loss did not improve from 0.19573\n",
      "292/292 [==============================] - 51s 174ms/step - loss: 0.1603 - accuracy: 0.9505 - val_loss: 0.2658 - val_accuracy: 0.8950\n",
      "Epoch 24/400\n",
      "292/292 [==============================] - ETA: 0s - loss: 0.1730 - accuracy: 0.9437\n",
      "Epoch 24: val_loss improved from 0.19573 to 0.18503, saving model to ./model\\first.hdf5\n",
      "292/292 [==============================] - 51s 175ms/step - loss: 0.1730 - accuracy: 0.9437 - val_loss: 0.1850 - val_accuracy: 0.9400\n",
      "Epoch 25/400\n",
      "292/292 [==============================] - ETA: 0s - loss: 0.1606 - accuracy: 0.9444\n",
      "Epoch 25: val_loss did not improve from 0.18503\n",
      "292/292 [==============================] - 52s 177ms/step - loss: 0.1606 - accuracy: 0.9444 - val_loss: 0.2140 - val_accuracy: 0.9300\n",
      "Epoch 26/400\n",
      "292/292 [==============================] - ETA: 0s - loss: 0.1335 - accuracy: 0.9499\n",
      "Epoch 26: val_loss did not improve from 0.18503\n",
      "292/292 [==============================] - 53s 180ms/step - loss: 0.1335 - accuracy: 0.9499 - val_loss: 0.2840 - val_accuracy: 0.9250\n",
      "Epoch 27/400\n",
      "292/292 [==============================] - ETA: 0s - loss: 0.1311 - accuracy: 0.9554\n",
      "Epoch 27: val_loss improved from 0.18503 to 0.16670, saving model to ./model\\first.hdf5\n",
      "292/292 [==============================] - 54s 184ms/step - loss: 0.1311 - accuracy: 0.9554 - val_loss: 0.1667 - val_accuracy: 0.9500\n",
      "Epoch 28/400\n",
      "292/292 [==============================] - ETA: 0s - loss: 0.1114 - accuracy: 0.9588\n",
      "Epoch 28: val_loss did not improve from 0.16670\n",
      "292/292 [==============================] - 52s 176ms/step - loss: 0.1114 - accuracy: 0.9588 - val_loss: 0.1798 - val_accuracy: 0.9400\n",
      "Epoch 29/400\n",
      "292/292 [==============================] - ETA: 0s - loss: 0.1106 - accuracy: 0.9622\n",
      "Epoch 29: val_loss did not improve from 0.16670\n",
      "292/292 [==============================] - 52s 176ms/step - loss: 0.1106 - accuracy: 0.9622 - val_loss: 0.3116 - val_accuracy: 0.8900\n",
      "Epoch 30/400\n",
      "292/292 [==============================] - ETA: 0s - loss: 0.1178 - accuracy: 0.9567\n",
      "Epoch 30: val_loss did not improve from 0.16670\n",
      "292/292 [==============================] - 52s 177ms/step - loss: 0.1178 - accuracy: 0.9567 - val_loss: 0.2854 - val_accuracy: 0.9050\n",
      "Epoch 31/400\n",
      "292/292 [==============================] - ETA: 0s - loss: 0.1256 - accuracy: 0.9581\n",
      "Epoch 31: val_loss did not improve from 0.16670\n",
      "292/292 [==============================] - 53s 180ms/step - loss: 0.1256 - accuracy: 0.9581 - val_loss: 0.4037 - val_accuracy: 0.9050\n",
      "Epoch 32/400\n",
      "292/292 [==============================] - ETA: 0s - loss: 0.1174 - accuracy: 0.9581\n",
      "Epoch 32: val_loss did not improve from 0.16670\n",
      "292/292 [==============================] - 54s 184ms/step - loss: 0.1174 - accuracy: 0.9581 - val_loss: 0.2146 - val_accuracy: 0.9350\n",
      "Epoch 33/400\n",
      "292/292 [==============================] - ETA: 0s - loss: 0.1229 - accuracy: 0.9588\n",
      "Epoch 33: val_loss did not improve from 0.16670\n",
      "292/292 [==============================] - 53s 182ms/step - loss: 0.1229 - accuracy: 0.9588 - val_loss: 0.2657 - val_accuracy: 0.9100\n",
      "Epoch 34/400\n",
      "292/292 [==============================] - ETA: 0s - loss: 0.1167 - accuracy: 0.9629\n",
      "Epoch 34: val_loss did not improve from 0.16670\n",
      "292/292 [==============================] - 54s 183ms/step - loss: 0.1167 - accuracy: 0.9629 - val_loss: 0.1980 - val_accuracy: 0.9300\n"
     ]
    }
   ],
   "source": [
    "# batch_size = 32  # 배치 크기\n",
    "# validation_steps = len(test_generator) // CFG.batch_size\n",
    "\n",
    "# 모델 실행\n",
    "history = model.fit(\n",
    "    train_generator,\n",
    "    epochs=400,\n",
    "    validation_data = test_generator,\n",
    "    validation_steps = 40,\n",
    "    callbacks=[early_stopping_callback,checkpointer]\n",
    ")\n",
    "\n",
    "# validation_steps = 10 >> 검증데이터 셋 에서 10개의 배치 사용, 검증 과정 수행함"
   ]
  },
  {
   "cell_type": "code",
   "execution_count": 172,
   "metadata": {},
   "outputs": [
    {
     "data": {
      "image/png": "[encoded data removed]",
      "text/plain": [
       "<Figure size 640x480 with 1 Axes>"
      ]
     },
     "metadata": {},
     "output_type": "display_data"
    }
   ],
   "source": [
    "# 검증셋과 학습셋의 오차 저장\n",
    "\n",
    "y_vloss = history.history['val_loss']\n",
    "y_loss = history.history['loss']\n",
    "\n",
    "# 그래프로 표현\n",
    "x_len = np.arange(len(y_loss))\n",
    "plt.plot(x_len, y_vloss, marker='.', c='red', label='Testset_loss')\n",
    "plt.plot(x_len, y_loss, marker='.', c='blue', label='Trainset_loss')\n",
    "\n",
    "plt.legend(loc='best')\n",
    "plt.grid()\n",
    "plt.xlabel('epoch')\n",
    "plt.ylabel('loss')\n",
    "plt.show()"
   ]
  },
  {
   "cell_type": "code",
   "execution_count": 173,
   "metadata": {},
   "outputs": [],
   "source": [
    "full_list = []\n",
    "for path in df_full[\"file_path\"]:\n",
    "    img = plt.imread(path).astype('float32')\n",
    "    img = img / 255\n",
    "    img = cv2.resize(img, dsize=(CFG.img_size, CFG.img_size), interpolation=cv2.INTER_LINEAR)\n",
    "    full_list.append(img)"
   ]
  },
  {
   "cell_type": "code",
   "execution_count": 174,
   "metadata": {},
   "outputs": [],
   "source": [
    "full_list_stack = np.stack(full_list)"
   ]
  },
  {
   "cell_type": "code",
   "execution_count": 175,
   "metadata": {},
   "outputs": [
    {
     "name": "stdout",
     "output_type": "stream",
     "text": [
      "57/57 [==============================] - 103s 930ms/step\n"
     ]
    }
   ],
   "source": [
    "# full_list_stack \n",
    "with tf.device('/CPU:0'):\n",
    "    predict = model.predict(full_list_stack)"
   ]
  },
  {
   "cell_type": "code",
   "execution_count": 176,
   "metadata": {},
   "outputs": [],
   "source": [
    "import numpy as np\n",
    "\n",
    "# 예측값 중 가장 높은 값의 인덱스 가져오기\n",
    "max_indices = np.argmax(predict, axis=1)\n",
    "\n",
    "# 예측값을 0 또는 1로 변환\n",
    "predictions = np.zeros_like(predict)\n",
    "predictions[np.arange(len(predict)), max_indices] = 1\n",
    "\n",
    "# 변환된 예측값으로 데이터프레임 생성\n",
    "train_output = pd.DataFrame(predictions, columns=['healthy', 'multiple_diseases', 'rust', 'scab'])"
   ]
  },
  {
   "cell_type": "code",
   "execution_count": 177,
   "metadata": {},
   "outputs": [
    {
     "name": "stdout",
     "output_type": "stream",
     "text": [
      "훈련용 데이터 오차행렬:\n",
      " [[508   0   1   7]\n",
      " [  6  72   9   4]\n",
      " [  0   7 615   0]\n",
      " [  8   7   0 577]]\n"
     ]
    }
   ],
   "source": [
    "pred_y= train_output[:]\n",
    "y = df_full.iloc[:,5:]\n",
    "\n",
    "# Convert dataframes to numpy arrays\n",
    "pred_y = pred_y.to_numpy().argmax(axis=1)\n",
    "y = y.to_numpy().argmax(axis=1)\n",
    "\n",
    "# Calculate confusion matrix\n",
    "cm = confusion_matrix(y, pred_y)\n",
    "\n",
    "# Print confusion matrix\n",
    "\n",
    "print(\"훈련용 데이터 오차행렬:\\n\",cm)"
   ]
  },
  {
   "cell_type": "code",
   "execution_count": 178,
   "metadata": {},
   "outputs": [
    {
     "name": "stdout",
     "output_type": "stream",
     "text": [
      "훈련용 데이터 분류예측 리포트:\n",
      "               precision    recall  f1-score   support\n",
      "\n",
      "           0       0.97      0.98      0.98       516\n",
      "           1       0.84      0.79      0.81        91\n",
      "           2       0.98      0.99      0.99       622\n",
      "           3       0.98      0.97      0.98       592\n",
      "\n",
      "    accuracy                           0.97      1821\n",
      "   macro avg       0.94      0.93      0.94      1821\n",
      "weighted avg       0.97      0.97      0.97      1821\n",
      "\n"
     ]
    }
   ],
   "source": [
    "print(\"훈련용 데이터 분류예측 리포트:\\n\", classification_report(y, pred_y))"
   ]
  },
  {
   "cell_type": "code",
   "execution_count": 179,
   "metadata": {},
   "outputs": [],
   "source": [
    "test_list = []\n",
    "for path in df_test[\"file_path\"]:\n",
    "    img = plt.imread(path).astype('float32')\n",
    "    img = img / 255\n",
    "    img = cv2.resize(img, dsize=(CFG.img_size, CFG.img_size), interpolation=cv2.INTER_LINEAR)\n",
    "    test_list.append(img)\n"
   ]
  },
  {
   "cell_type": "code",
   "execution_count": 180,
   "metadata": {},
   "outputs": [],
   "source": [
    "test_list_stack = np.stack(test_list)"
   ]
  },
  {
   "cell_type": "code",
   "execution_count": 181,
   "metadata": {},
   "outputs": [
    {
     "name": "stdout",
     "output_type": "stream",
     "text": [
      "57/57 [==============================] - 53s 908ms/step\n"
     ]
    }
   ],
   "source": [
    "with tf.device('/CPU:0'):\n",
    "    predict = model.predict(test_list_stack)"
   ]
  },
  {
   "cell_type": "code",
   "execution_count": 182,
   "metadata": {},
   "outputs": [],
   "source": [
    "output = pd.DataFrame(predict)\n",
    "output = output[[0, 1, 2, 3]]\n",
    "lista = list(output.columns)\n",
    "lista[0] = 'healthy'\n",
    "lista[1] = 'multiple_diseases'\n",
    "lista[2] = 'rust'\n",
    "lista[3] = 'scab'\n",
    "output.columns = lista\n",
    "output = pd.concat([df_test[['file_name']], output], axis=1)\n",
    "output = output.rename(columns={'file_name': 'image_id'})\n",
    "output['image_id'] = output['image_id'].apply(lambda x: x.split('.')[0])\n",
    "output.to_csv(\"submission2.csv\", index=False)"
   ]
  },
  {
   "cell_type": "code",
   "execution_count": null,
   "metadata": {},
   "outputs": [],
   "source": []
  }
 ],
 "metadata": {
  "kernelspec": {
   "display_name": "tensorflowgpu",
   "language": "python",
   "name": "python3"
  },
  "language_info": {
   "codemirror_mode": {
    "name": "ipython",
    "version": 3
   },
   "file_extension": ".py",
   "mimetype": "text/x-python",
   "name": "python",
   "nbconvert_exporter": "python",
   "pygments_lexer": "ipython3",
   "version": "3.9.16"
  },
  "orig_nbformat": 4
 },
 "nbformat": 4,
 "nbformat_minor": 2
}
